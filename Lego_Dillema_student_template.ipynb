{
 "cells": [
  {
   "cell_type": "markdown",
   "metadata": {},
   "source": [
    "### Load and split the dataset\n",
    "- Load the train data and using all your knowledge of pandas try to explore the different statistical properties of the dataset.\n",
    "- Separate the features and target and then split the train data into train and validation set."
   ]
  },
  {
   "cell_type": "code",
   "execution_count": 450,
   "metadata": {},
   "outputs": [
    {
     "data": {
      "text/plain": [
       "['.git',\n",
       " '.ipynb_checkpoints',\n",
       " 'LCDataDictionary.xlsx',\n",
       " 'Lego_Dillema_student_template.ipynb',\n",
       " 'sample_submission_lego.csv',\n",
       " 'test_lego.csv',\n",
       " 'train_lego.csv']"
      ]
     },
     "execution_count": 450,
     "metadata": {},
     "output_type": "execute_result"
    }
   ],
   "source": [
    "import os\n",
    "os.getcwd()\n",
    "os.listdir()"
   ]
  },
  {
   "cell_type": "code",
   "execution_count": 451,
   "metadata": {},
   "outputs": [],
   "source": [
    "import statsmodels.api as sm\n",
    "from statsmodels.formula.api import ols\n",
    "import pandas as pd\n",
    "import numpy as np\n",
    "import matplotlib.pyplot as plt\n",
    "from sklearn.linear_model import LinearRegression\n",
    "from sklearn.metrics import mean_squared_error, r2_score\n",
    "from sklearn.model_selection import train_test_split\n",
    "from sklearn.preprocessing import MinMaxScaler\n",
    "import seaborn as sns\n",
    "import scipy as sp\n",
    "import warnings\n",
    "warnings.filterwarnings(\"ignore\")\n"
   ]
  },
  {
   "cell_type": "code",
   "execution_count": 452,
   "metadata": {},
   "outputs": [
    {
     "data": {
      "text/html": [
       "<div>\n",
       "<style scoped>\n",
       "    .dataframe tbody tr th:only-of-type {\n",
       "        vertical-align: middle;\n",
       "    }\n",
       "\n",
       "    .dataframe tbody tr th {\n",
       "        vertical-align: top;\n",
       "    }\n",
       "\n",
       "    .dataframe thead th {\n",
       "        text-align: right;\n",
       "    }\n",
       "</style>\n",
       "<table border=\"1\" class=\"dataframe\">\n",
       "  <thead>\n",
       "    <tr style=\"text-align: right;\">\n",
       "      <th></th>\n",
       "      <th>ages</th>\n",
       "      <th>num_reviews</th>\n",
       "      <th>piece_count</th>\n",
       "      <th>play_star_rating</th>\n",
       "      <th>review_difficulty</th>\n",
       "      <th>star_rating</th>\n",
       "      <th>theme_name</th>\n",
       "      <th>val_star_rating</th>\n",
       "      <th>country</th>\n",
       "      <th>Id</th>\n",
       "    </tr>\n",
       "  </thead>\n",
       "  <tbody>\n",
       "    <tr>\n",
       "      <th>0</th>\n",
       "      <td>26</td>\n",
       "      <td>8</td>\n",
       "      <td>941</td>\n",
       "      <td>4.6</td>\n",
       "      <td>0</td>\n",
       "      <td>4.6</td>\n",
       "      <td>33</td>\n",
       "      <td>4.3</td>\n",
       "      <td>16</td>\n",
       "      <td>9907</td>\n",
       "    </tr>\n",
       "    <tr>\n",
       "      <th>1</th>\n",
       "      <td>11</td>\n",
       "      <td>0</td>\n",
       "      <td>19</td>\n",
       "      <td>0.0</td>\n",
       "      <td>5</td>\n",
       "      <td>0.0</td>\n",
       "      <td>13</td>\n",
       "      <td>0.0</td>\n",
       "      <td>7</td>\n",
       "      <td>5243</td>\n",
       "    </tr>\n",
       "    <tr>\n",
       "      <th>2</th>\n",
       "      <td>29</td>\n",
       "      <td>34</td>\n",
       "      <td>1376</td>\n",
       "      <td>4.0</td>\n",
       "      <td>1</td>\n",
       "      <td>4.3</td>\n",
       "      <td>34</td>\n",
       "      <td>3.8</td>\n",
       "      <td>12</td>\n",
       "      <td>8276</td>\n",
       "    </tr>\n",
       "    <tr>\n",
       "      <th>3</th>\n",
       "      <td>26</td>\n",
       "      <td>0</td>\n",
       "      <td>369</td>\n",
       "      <td>0.0</td>\n",
       "      <td>5</td>\n",
       "      <td>0.0</td>\n",
       "      <td>28</td>\n",
       "      <td>0.0</td>\n",
       "      <td>9</td>\n",
       "      <td>6501</td>\n",
       "    </tr>\n",
       "    <tr>\n",
       "      <th>4</th>\n",
       "      <td>11</td>\n",
       "      <td>1</td>\n",
       "      <td>19</td>\n",
       "      <td>3.0</td>\n",
       "      <td>5</td>\n",
       "      <td>4.0</td>\n",
       "      <td>13</td>\n",
       "      <td>4.0</td>\n",
       "      <td>0</td>\n",
       "      <td>1619</td>\n",
       "    </tr>\n",
       "  </tbody>\n",
       "</table>\n",
       "</div>"
      ],
      "text/plain": [
       "   ages  num_reviews  piece_count  play_star_rating  review_difficulty  \\\n",
       "0    26            8          941               4.6                  0   \n",
       "1    11            0           19               0.0                  5   \n",
       "2    29           34         1376               4.0                  1   \n",
       "3    26            0          369               0.0                  5   \n",
       "4    11            1           19               3.0                  5   \n",
       "\n",
       "   star_rating  theme_name  val_star_rating  country    Id  \n",
       "0          4.6          33              4.3       16  9907  \n",
       "1          0.0          13              0.0        7  5243  \n",
       "2          4.3          34              3.8       12  8276  \n",
       "3          0.0          28              0.0        9  6501  \n",
       "4          4.0          13              4.0        0  1619  "
      ]
     },
     "execution_count": 452,
     "metadata": {},
     "output_type": "execute_result"
    }
   ],
   "source": [
    "# Code starts here\n",
    "# read data\n",
    "train = pd.read_csv('train_lego.csv')\n",
    "test = pd.read_csv('test_lego.csv')\n",
    "train.head()\n",
    "test.head()\n",
    "\n",
    "\n",
    "\n",
    "\n",
    "\n",
    "\n",
    "\n",
    "\n",
    "\n",
    "\n",
    "\n",
    "# Code ends here."
   ]
  },
  {
   "cell_type": "code",
   "execution_count": 453,
   "metadata": {},
   "outputs": [
    {
     "name": "stdout",
     "output_type": "stream",
     "text": [
      "<class 'pandas.core.frame.DataFrame'>\n",
      "RangeIndex: 8582 entries, 0 to 8581\n",
      "Data columns (total 11 columns):\n",
      " #   Column             Non-Null Count  Dtype  \n",
      "---  ------             --------------  -----  \n",
      " 0   ages               8582 non-null   int64  \n",
      " 1   list_price         8582 non-null   float64\n",
      " 2   num_reviews        8582 non-null   int64  \n",
      " 3   piece_count        8582 non-null   int64  \n",
      " 4   play_star_rating   8582 non-null   float64\n",
      " 5   review_difficulty  8582 non-null   int64  \n",
      " 6   star_rating        8582 non-null   float64\n",
      " 7   theme_name         8582 non-null   int64  \n",
      " 8   val_star_rating    8582 non-null   float64\n",
      " 9   country            8582 non-null   int64  \n",
      " 10  Id                 8582 non-null   int64  \n",
      "dtypes: float64(4), int64(7)\n",
      "memory usage: 737.6 KB\n"
     ]
    }
   ],
   "source": [
    "train.info()"
   ]
  },
  {
   "cell_type": "code",
   "execution_count": 454,
   "metadata": {},
   "outputs": [
    {
     "data": {
      "text/plain": [
       "(8582, 11)"
      ]
     },
     "execution_count": 454,
     "metadata": {},
     "output_type": "execute_result"
    }
   ],
   "source": [
    "train.shape"
   ]
  },
  {
   "cell_type": "code",
   "execution_count": 455,
   "metadata": {},
   "outputs": [
    {
     "data": {
      "text/plain": [
       "(3679, 10)"
      ]
     },
     "execution_count": 455,
     "metadata": {},
     "output_type": "execute_result"
    }
   ],
   "source": [
    "test.shape"
   ]
  },
  {
   "cell_type": "code",
   "execution_count": 456,
   "metadata": {},
   "outputs": [
    {
     "data": {
      "text/html": [
       "<div>\n",
       "<style scoped>\n",
       "    .dataframe tbody tr th:only-of-type {\n",
       "        vertical-align: middle;\n",
       "    }\n",
       "\n",
       "    .dataframe tbody tr th {\n",
       "        vertical-align: top;\n",
       "    }\n",
       "\n",
       "    .dataframe thead th {\n",
       "        text-align: right;\n",
       "    }\n",
       "</style>\n",
       "<table border=\"1\" class=\"dataframe\">\n",
       "  <thead>\n",
       "    <tr style=\"text-align: right;\">\n",
       "      <th></th>\n",
       "      <th>Id</th>\n",
       "      <th>list_price</th>\n",
       "    </tr>\n",
       "  </thead>\n",
       "  <tbody>\n",
       "    <tr>\n",
       "      <th>0</th>\n",
       "      <td>9907</td>\n",
       "      <td>0</td>\n",
       "    </tr>\n",
       "    <tr>\n",
       "      <th>1</th>\n",
       "      <td>5243</td>\n",
       "      <td>0</td>\n",
       "    </tr>\n",
       "    <tr>\n",
       "      <th>2</th>\n",
       "      <td>8276</td>\n",
       "      <td>0</td>\n",
       "    </tr>\n",
       "    <tr>\n",
       "      <th>3</th>\n",
       "      <td>6501</td>\n",
       "      <td>0</td>\n",
       "    </tr>\n",
       "    <tr>\n",
       "      <th>4</th>\n",
       "      <td>1619</td>\n",
       "      <td>0</td>\n",
       "    </tr>\n",
       "  </tbody>\n",
       "</table>\n",
       "</div>"
      ],
      "text/plain": [
       "     Id  list_price\n",
       "0  9907           0\n",
       "1  5243           0\n",
       "2  8276           0\n",
       "3  6501           0\n",
       "4  1619           0"
      ]
     },
     "execution_count": 456,
     "metadata": {},
     "output_type": "execute_result"
    }
   ],
   "source": [
    "sample = pd.read_csv('sample_submission_lego.csv')\n",
    "sample.head()"
   ]
  },
  {
   "cell_type": "code",
   "execution_count": 457,
   "metadata": {},
   "outputs": [],
   "source": [
    "y = train['list_price']"
   ]
  },
  {
   "cell_type": "code",
   "execution_count": 458,
   "metadata": {},
   "outputs": [],
   "source": [
    "Id = train['Id']"
   ]
  },
  {
   "cell_type": "code",
   "execution_count": 459,
   "metadata": {},
   "outputs": [
    {
     "data": {
      "text/plain": [
       "Text(0.5, 1.0, 'Distribution of target variable')"
      ]
     },
     "execution_count": 459,
     "metadata": {},
     "output_type": "execute_result"
    },
    {
     "data": {
      "image/png": "[encoded data removed]",
      "text/plain": [
       "<Figure size 720x216 with 1 Axes>"
      ]
     },
     "metadata": {
      "needs_background": "light"
     },
     "output_type": "display_data"
    }
   ],
   "source": [
    "# Target Variable distribution\n",
    "plt.figure(figsize=(10,3))\n",
    "sns.boxplot(data = train['list_price'], orient='horizontal', palette='husl')\n",
    "plt.title(\"Distribution of target variable\")"
   ]
  },
  {
   "cell_type": "code",
   "execution_count": 460,
   "metadata": {},
   "outputs": [
    {
     "data": {
      "text/html": [
       "<div>\n",
       "<style scoped>\n",
       "    .dataframe tbody tr th:only-of-type {\n",
       "        vertical-align: middle;\n",
       "    }\n",
       "\n",
       "    .dataframe tbody tr th {\n",
       "        vertical-align: top;\n",
       "    }\n",
       "\n",
       "    .dataframe thead th {\n",
       "        text-align: right;\n",
       "    }\n",
       "</style>\n",
       "<table border=\"1\" class=\"dataframe\">\n",
       "  <thead>\n",
       "    <tr style=\"text-align: right;\">\n",
       "      <th></th>\n",
       "      <th>ages</th>\n",
       "      <th>num_reviews</th>\n",
       "      <th>piece_count</th>\n",
       "      <th>play_star_rating</th>\n",
       "      <th>review_difficulty</th>\n",
       "      <th>star_rating</th>\n",
       "      <th>theme_name</th>\n",
       "      <th>val_star_rating</th>\n",
       "      <th>country</th>\n",
       "    </tr>\n",
       "  </thead>\n",
       "  <tbody>\n",
       "    <tr>\n",
       "      <th>count</th>\n",
       "      <td>8582.000000</td>\n",
       "      <td>8582.000000</td>\n",
       "      <td>8582.000000</td>\n",
       "      <td>8582.000000</td>\n",
       "      <td>8582.000000</td>\n",
       "      <td>8582.000000</td>\n",
       "      <td>8582.000000</td>\n",
       "      <td>8582.000000</td>\n",
       "      <td>8582.000000</td>\n",
       "    </tr>\n",
       "    <tr>\n",
       "      <th>mean</th>\n",
       "      <td>16.649149</td>\n",
       "      <td>14.680727</td>\n",
       "      <td>486.677464</td>\n",
       "      <td>3.697809</td>\n",
       "      <td>1.994640</td>\n",
       "      <td>3.904649</td>\n",
       "      <td>20.482172</td>\n",
       "      <td>3.597448</td>\n",
       "      <td>10.045211</td>\n",
       "    </tr>\n",
       "    <tr>\n",
       "      <th>std</th>\n",
       "      <td>8.186261</td>\n",
       "      <td>34.867561</td>\n",
       "      <td>802.789725</td>\n",
       "      <td>1.653742</td>\n",
       "      <td>1.792387</td>\n",
       "      <td>1.617678</td>\n",
       "      <td>11.948618</td>\n",
       "      <td>1.624698</td>\n",
       "      <td>6.191468</td>\n",
       "    </tr>\n",
       "    <tr>\n",
       "      <th>min</th>\n",
       "      <td>0.000000</td>\n",
       "      <td>0.000000</td>\n",
       "      <td>1.000000</td>\n",
       "      <td>0.000000</td>\n",
       "      <td>0.000000</td>\n",
       "      <td>0.000000</td>\n",
       "      <td>0.000000</td>\n",
       "      <td>0.000000</td>\n",
       "      <td>0.000000</td>\n",
       "    </tr>\n",
       "    <tr>\n",
       "      <th>25%</th>\n",
       "      <td>11.000000</td>\n",
       "      <td>1.000000</td>\n",
       "      <td>95.000000</td>\n",
       "      <td>3.600000</td>\n",
       "      <td>0.000000</td>\n",
       "      <td>4.000000</td>\n",
       "      <td>9.000000</td>\n",
       "      <td>3.500000</td>\n",
       "      <td>4.000000</td>\n",
       "    </tr>\n",
       "    <tr>\n",
       "      <th>50%</th>\n",
       "      <td>19.000000</td>\n",
       "      <td>4.000000</td>\n",
       "      <td>214.000000</td>\n",
       "      <td>4.400000</td>\n",
       "      <td>2.000000</td>\n",
       "      <td>4.600000</td>\n",
       "      <td>21.000000</td>\n",
       "      <td>4.200000</td>\n",
       "      <td>10.000000</td>\n",
       "    </tr>\n",
       "    <tr>\n",
       "      <th>75%</th>\n",
       "      <td>23.000000</td>\n",
       "      <td>12.000000</td>\n",
       "      <td>544.000000</td>\n",
       "      <td>4.700000</td>\n",
       "      <td>4.000000</td>\n",
       "      <td>4.900000</td>\n",
       "      <td>34.000000</td>\n",
       "      <td>4.700000</td>\n",
       "      <td>15.000000</td>\n",
       "    </tr>\n",
       "    <tr>\n",
       "      <th>max</th>\n",
       "      <td>30.000000</td>\n",
       "      <td>367.000000</td>\n",
       "      <td>7541.000000</td>\n",
       "      <td>5.000000</td>\n",
       "      <td>5.000000</td>\n",
       "      <td>5.000000</td>\n",
       "      <td>40.000000</td>\n",
       "      <td>5.000000</td>\n",
       "      <td>20.000000</td>\n",
       "    </tr>\n",
       "  </tbody>\n",
       "</table>\n",
       "</div>"
      ],
      "text/plain": [
       "              ages  num_reviews  piece_count  play_star_rating  \\\n",
       "count  8582.000000  8582.000000  8582.000000       8582.000000   \n",
       "mean     16.649149    14.680727   486.677464          3.697809   \n",
       "std       8.186261    34.867561   802.789725          1.653742   \n",
       "min       0.000000     0.000000     1.000000          0.000000   \n",
       "25%      11.000000     1.000000    95.000000          3.600000   \n",
       "50%      19.000000     4.000000   214.000000          4.400000   \n",
       "75%      23.000000    12.000000   544.000000          4.700000   \n",
       "max      30.000000   367.000000  7541.000000          5.000000   \n",
       "\n",
       "       review_difficulty  star_rating   theme_name  val_star_rating  \\\n",
       "count        8582.000000  8582.000000  8582.000000      8582.000000   \n",
       "mean            1.994640     3.904649    20.482172         3.597448   \n",
       "std             1.792387     1.617678    11.948618         1.624698   \n",
       "min             0.000000     0.000000     0.000000         0.000000   \n",
       "25%             0.000000     4.000000     9.000000         3.500000   \n",
       "50%             2.000000     4.600000    21.000000         4.200000   \n",
       "75%             4.000000     4.900000    34.000000         4.700000   \n",
       "max             5.000000     5.000000    40.000000         5.000000   \n",
       "\n",
       "           country  \n",
       "count  8582.000000  \n",
       "mean     10.045211  \n",
       "std       6.191468  \n",
       "min       0.000000  \n",
       "25%       4.000000  \n",
       "50%      10.000000  \n",
       "75%      15.000000  \n",
       "max      20.000000  "
      ]
     },
     "execution_count": 460,
     "metadata": {},
     "output_type": "execute_result"
    }
   ],
   "source": [
    "train.describe().drop(['list_price','Id'], axis=1)"
   ]
  },
  {
   "cell_type": "code",
   "execution_count": 461,
   "metadata": {},
   "outputs": [
    {
     "data": {
      "text/plain": [
       "<matplotlib.axes._subplots.AxesSubplot at 0x215b6f628c8>"
      ]
     },
     "execution_count": 461,
     "metadata": {},
     "output_type": "execute_result"
    },
    {
     "data": {
      "image/png": "[encoded data removed]",
      "text/plain": [
       "<Figure size 720x720 with 1 Axes>"
      ]
     },
     "metadata": {
      "needs_background": "light"
     },
     "output_type": "display_data"
    }
   ],
   "source": [
    "# Feature variables distribution\n",
    "plt.figure(figsize=(10,10))\n",
    "sns.boxplot(data=train.drop(columns=['list_price','Id']), orient='horizontal', palette='husl')"
   ]
  },
  {
   "cell_type": "code",
   "execution_count": 462,
   "metadata": {},
   "outputs": [
    {
     "data": {
      "text/html": [
       "<div>\n",
       "<style scoped>\n",
       "    .dataframe tbody tr th:only-of-type {\n",
       "        vertical-align: middle;\n",
       "    }\n",
       "\n",
       "    .dataframe tbody tr th {\n",
       "        vertical-align: top;\n",
       "    }\n",
       "\n",
       "    .dataframe thead th {\n",
       "        text-align: right;\n",
       "    }\n",
       "</style>\n",
       "<table border=\"1\" class=\"dataframe\">\n",
       "  <thead>\n",
       "    <tr style=\"text-align: right;\">\n",
       "      <th></th>\n",
       "      <th>ages</th>\n",
       "      <th>num_reviews</th>\n",
       "      <th>piece_count</th>\n",
       "      <th>play_star_rating</th>\n",
       "      <th>review_difficulty</th>\n",
       "      <th>star_rating</th>\n",
       "      <th>theme_name</th>\n",
       "      <th>val_star_rating</th>\n",
       "      <th>country</th>\n",
       "    </tr>\n",
       "  </thead>\n",
       "  <tbody>\n",
       "    <tr>\n",
       "      <th>0</th>\n",
       "      <td>8</td>\n",
       "      <td>202</td>\n",
       "      <td>2469</td>\n",
       "      <td>4.7</td>\n",
       "      <td>1</td>\n",
       "      <td>4.9</td>\n",
       "      <td>9</td>\n",
       "      <td>4.7</td>\n",
       "      <td>7</td>\n",
       "    </tr>\n",
       "    <tr>\n",
       "      <th>1</th>\n",
       "      <td>26</td>\n",
       "      <td>9</td>\n",
       "      <td>252</td>\n",
       "      <td>4.8</td>\n",
       "      <td>0</td>\n",
       "      <td>4.6</td>\n",
       "      <td>39</td>\n",
       "      <td>4.6</td>\n",
       "      <td>20</td>\n",
       "    </tr>\n",
       "    <tr>\n",
       "      <th>2</th>\n",
       "      <td>26</td>\n",
       "      <td>56</td>\n",
       "      <td>659</td>\n",
       "      <td>4.6</td>\n",
       "      <td>0</td>\n",
       "      <td>4.6</td>\n",
       "      <td>34</td>\n",
       "      <td>3.9</td>\n",
       "      <td>4</td>\n",
       "    </tr>\n",
       "    <tr>\n",
       "      <th>3</th>\n",
       "      <td>11</td>\n",
       "      <td>1</td>\n",
       "      <td>19</td>\n",
       "      <td>3.0</td>\n",
       "      <td>5</td>\n",
       "      <td>4.0</td>\n",
       "      <td>13</td>\n",
       "      <td>4.0</td>\n",
       "      <td>10</td>\n",
       "    </tr>\n",
       "    <tr>\n",
       "      <th>4</th>\n",
       "      <td>7</td>\n",
       "      <td>84</td>\n",
       "      <td>4016</td>\n",
       "      <td>4.5</td>\n",
       "      <td>1</td>\n",
       "      <td>3.9</td>\n",
       "      <td>34</td>\n",
       "      <td>3.5</td>\n",
       "      <td>10</td>\n",
       "    </tr>\n",
       "  </tbody>\n",
       "</table>\n",
       "</div>"
      ],
      "text/plain": [
       "   ages  num_reviews  piece_count  play_star_rating  review_difficulty  \\\n",
       "0     8          202         2469               4.7                  1   \n",
       "1    26            9          252               4.8                  0   \n",
       "2    26           56          659               4.6                  0   \n",
       "3    11            1           19               3.0                  5   \n",
       "4     7           84         4016               4.5                  1   \n",
       "\n",
       "   star_rating  theme_name  val_star_rating  country  \n",
       "0          4.9           9              4.7        7  \n",
       "1          4.6          39              4.6       20  \n",
       "2          4.6          34              3.9        4  \n",
       "3          4.0          13              4.0       10  \n",
       "4          3.9          34              3.5       10  "
      ]
     },
     "execution_count": 462,
     "metadata": {},
     "output_type": "execute_result"
    }
   ],
   "source": [
    "train = train.loc[:, ~train.columns.isin(['list_price','Id'])]\n",
    "train.head()"
   ]
  },
  {
   "cell_type": "code",
   "execution_count": 494,
   "metadata": {},
   "outputs": [],
   "source": [
    "scaler = MinMaxScaler()\n",
    "scaled_values = scaler.fit_transform(train)\n",
    "train.loc[:,:] = scaled_values"
   ]
  },
  {
   "cell_type": "code",
   "execution_count": 495,
   "metadata": {},
   "outputs": [
    {
     "data": {
      "text/html": [
       "<div>\n",
       "<style scoped>\n",
       "    .dataframe tbody tr th:only-of-type {\n",
       "        vertical-align: middle;\n",
       "    }\n",
       "\n",
       "    .dataframe tbody tr th {\n",
       "        vertical-align: top;\n",
       "    }\n",
       "\n",
       "    .dataframe thead th {\n",
       "        text-align: right;\n",
       "    }\n",
       "</style>\n",
       "<table border=\"1\" class=\"dataframe\">\n",
       "  <thead>\n",
       "    <tr style=\"text-align: right;\">\n",
       "      <th></th>\n",
       "      <th>ages</th>\n",
       "      <th>num_reviews</th>\n",
       "      <th>piece_count</th>\n",
       "      <th>play_star_rating</th>\n",
       "      <th>review_difficulty</th>\n",
       "      <th>star_rating</th>\n",
       "      <th>theme_name</th>\n",
       "      <th>val_star_rating</th>\n",
       "      <th>country</th>\n",
       "    </tr>\n",
       "  </thead>\n",
       "  <tbody>\n",
       "    <tr>\n",
       "      <th>0</th>\n",
       "      <td>0.266667</td>\n",
       "      <td>0.550409</td>\n",
       "      <td>0.327321</td>\n",
       "      <td>0.94</td>\n",
       "      <td>0.2</td>\n",
       "      <td>0.98</td>\n",
       "      <td>0.225</td>\n",
       "      <td>0.94</td>\n",
       "      <td>0.35</td>\n",
       "    </tr>\n",
       "    <tr>\n",
       "      <th>1</th>\n",
       "      <td>0.866667</td>\n",
       "      <td>0.024523</td>\n",
       "      <td>0.033289</td>\n",
       "      <td>0.96</td>\n",
       "      <td>0.0</td>\n",
       "      <td>0.92</td>\n",
       "      <td>0.975</td>\n",
       "      <td>0.92</td>\n",
       "      <td>1.00</td>\n",
       "    </tr>\n",
       "    <tr>\n",
       "      <th>2</th>\n",
       "      <td>0.866667</td>\n",
       "      <td>0.152589</td>\n",
       "      <td>0.087268</td>\n",
       "      <td>0.92</td>\n",
       "      <td>0.0</td>\n",
       "      <td>0.92</td>\n",
       "      <td>0.850</td>\n",
       "      <td>0.78</td>\n",
       "      <td>0.20</td>\n",
       "    </tr>\n",
       "    <tr>\n",
       "      <th>3</th>\n",
       "      <td>0.366667</td>\n",
       "      <td>0.002725</td>\n",
       "      <td>0.002387</td>\n",
       "      <td>0.60</td>\n",
       "      <td>1.0</td>\n",
       "      <td>0.80</td>\n",
       "      <td>0.325</td>\n",
       "      <td>0.80</td>\n",
       "      <td>0.50</td>\n",
       "    </tr>\n",
       "    <tr>\n",
       "      <th>4</th>\n",
       "      <td>0.233333</td>\n",
       "      <td>0.228883</td>\n",
       "      <td>0.532493</td>\n",
       "      <td>0.90</td>\n",
       "      <td>0.2</td>\n",
       "      <td>0.78</td>\n",
       "      <td>0.850</td>\n",
       "      <td>0.70</td>\n",
       "      <td>0.50</td>\n",
       "    </tr>\n",
       "  </tbody>\n",
       "</table>\n",
       "</div>"
      ],
      "text/plain": [
       "       ages  num_reviews  piece_count  play_star_rating  review_difficulty  \\\n",
       "0  0.266667     0.550409     0.327321              0.94                0.2   \n",
       "1  0.866667     0.024523     0.033289              0.96                0.0   \n",
       "2  0.866667     0.152589     0.087268              0.92                0.0   \n",
       "3  0.366667     0.002725     0.002387              0.60                1.0   \n",
       "4  0.233333     0.228883     0.532493              0.90                0.2   \n",
       "\n",
       "   star_rating  theme_name  val_star_rating  country  \n",
       "0         0.98       0.225             0.94     0.35  \n",
       "1         0.92       0.975             0.92     1.00  \n",
       "2         0.92       0.850             0.78     0.20  \n",
       "3         0.80       0.325             0.80     0.50  \n",
       "4         0.78       0.850             0.70     0.50  "
      ]
     },
     "execution_count": 495,
     "metadata": {},
     "output_type": "execute_result"
    }
   ],
   "source": [
    "train.head()"
   ]
  },
  {
   "cell_type": "code",
   "execution_count": 496,
   "metadata": {},
   "outputs": [
    {
     "data": {
      "text/plain": [
       "<matplotlib.axes._subplots.AxesSubplot at 0x215b7434208>"
      ]
     },
     "execution_count": 496,
     "metadata": {},
     "output_type": "execute_result"
    },
    {
     "data": {
      "image/png": "[encoded data removed]",
      "text/plain": [
       "<Figure size 720x720 with 1 Axes>"
      ]
     },
     "metadata": {
      "needs_background": "light"
     },
     "output_type": "display_data"
    }
   ],
   "source": [
    "plt.figure(figsize=(10,10))\n",
    "sns.boxplot(data=train, orient='horizontal', palette='husl')"
   ]
  },
  {
   "cell_type": "code",
   "execution_count": 466,
   "metadata": {},
   "outputs": [
    {
     "data": {
      "text/html": [
       "<div>\n",
       "<style scoped>\n",
       "    .dataframe tbody tr th:only-of-type {\n",
       "        vertical-align: middle;\n",
       "    }\n",
       "\n",
       "    .dataframe tbody tr th {\n",
       "        vertical-align: top;\n",
       "    }\n",
       "\n",
       "    .dataframe thead th {\n",
       "        text-align: right;\n",
       "    }\n",
       "</style>\n",
       "<table border=\"1\" class=\"dataframe\">\n",
       "  <thead>\n",
       "    <tr style=\"text-align: right;\">\n",
       "      <th></th>\n",
       "      <th>ages</th>\n",
       "      <th>num_reviews</th>\n",
       "      <th>piece_count</th>\n",
       "      <th>play_star_rating</th>\n",
       "      <th>review_difficulty</th>\n",
       "      <th>star_rating</th>\n",
       "      <th>theme_name</th>\n",
       "      <th>val_star_rating</th>\n",
       "      <th>country</th>\n",
       "    </tr>\n",
       "  </thead>\n",
       "  <tbody>\n",
       "    <tr>\n",
       "      <th>ages</th>\n",
       "      <td>1.000000</td>\n",
       "      <td>-0.160969</td>\n",
       "      <td>-0.090685</td>\n",
       "      <td>0.232847</td>\n",
       "      <td>-0.239683</td>\n",
       "      <td>0.102633</td>\n",
       "      <td>0.476178</td>\n",
       "      <td>0.116349</td>\n",
       "      <td>-0.001526</td>\n",
       "    </tr>\n",
       "    <tr>\n",
       "      <th>num_reviews</th>\n",
       "      <td>-0.160969</td>\n",
       "      <td>1.000000</td>\n",
       "      <td>0.542924</td>\n",
       "      <td>0.151801</td>\n",
       "      <td>-0.196846</td>\n",
       "      <td>0.160762</td>\n",
       "      <td>0.012342</td>\n",
       "      <td>0.172431</td>\n",
       "      <td>0.001953</td>\n",
       "    </tr>\n",
       "    <tr>\n",
       "      <th>piece_count</th>\n",
       "      <td>-0.090685</td>\n",
       "      <td>0.542924</td>\n",
       "      <td>1.000000</td>\n",
       "      <td>0.174411</td>\n",
       "      <td>-0.312239</td>\n",
       "      <td>0.180903</td>\n",
       "      <td>0.173318</td>\n",
       "      <td>0.192863</td>\n",
       "      <td>0.002506</td>\n",
       "    </tr>\n",
       "    <tr>\n",
       "      <th>play_star_rating</th>\n",
       "      <td>0.232847</td>\n",
       "      <td>0.151801</td>\n",
       "      <td>0.174411</td>\n",
       "      <td>1.000000</td>\n",
       "      <td>-0.670508</td>\n",
       "      <td>0.902573</td>\n",
       "      <td>0.151078</td>\n",
       "      <td>0.921824</td>\n",
       "      <td>-0.000958</td>\n",
       "    </tr>\n",
       "    <tr>\n",
       "      <th>review_difficulty</th>\n",
       "      <td>-0.239683</td>\n",
       "      <td>-0.196846</td>\n",
       "      <td>-0.312239</td>\n",
       "      <td>-0.670508</td>\n",
       "      <td>1.000000</td>\n",
       "      <td>-0.637901</td>\n",
       "      <td>-0.153948</td>\n",
       "      <td>-0.650333</td>\n",
       "      <td>0.006417</td>\n",
       "    </tr>\n",
       "    <tr>\n",
       "      <th>star_rating</th>\n",
       "      <td>0.102633</td>\n",
       "      <td>0.160762</td>\n",
       "      <td>0.180903</td>\n",
       "      <td>0.902573</td>\n",
       "      <td>-0.637901</td>\n",
       "      <td>1.000000</td>\n",
       "      <td>0.065264</td>\n",
       "      <td>0.908720</td>\n",
       "      <td>-0.003865</td>\n",
       "    </tr>\n",
       "    <tr>\n",
       "      <th>theme_name</th>\n",
       "      <td>0.476178</td>\n",
       "      <td>0.012342</td>\n",
       "      <td>0.173318</td>\n",
       "      <td>0.151078</td>\n",
       "      <td>-0.153948</td>\n",
       "      <td>0.065264</td>\n",
       "      <td>1.000000</td>\n",
       "      <td>0.097430</td>\n",
       "      <td>-0.003625</td>\n",
       "    </tr>\n",
       "    <tr>\n",
       "      <th>val_star_rating</th>\n",
       "      <td>0.116349</td>\n",
       "      <td>0.172431</td>\n",
       "      <td>0.192863</td>\n",
       "      <td>0.921824</td>\n",
       "      <td>-0.650333</td>\n",
       "      <td>0.908720</td>\n",
       "      <td>0.097430</td>\n",
       "      <td>1.000000</td>\n",
       "      <td>0.002413</td>\n",
       "    </tr>\n",
       "    <tr>\n",
       "      <th>country</th>\n",
       "      <td>-0.001526</td>\n",
       "      <td>0.001953</td>\n",
       "      <td>0.002506</td>\n",
       "      <td>-0.000958</td>\n",
       "      <td>0.006417</td>\n",
       "      <td>-0.003865</td>\n",
       "      <td>-0.003625</td>\n",
       "      <td>0.002413</td>\n",
       "      <td>1.000000</td>\n",
       "    </tr>\n",
       "  </tbody>\n",
       "</table>\n",
       "</div>"
      ],
      "text/plain": [
       "                       ages  num_reviews  piece_count  play_star_rating  \\\n",
       "ages               1.000000    -0.160969    -0.090685          0.232847   \n",
       "num_reviews       -0.160969     1.000000     0.542924          0.151801   \n",
       "piece_count       -0.090685     0.542924     1.000000          0.174411   \n",
       "play_star_rating   0.232847     0.151801     0.174411          1.000000   \n",
       "review_difficulty -0.239683    -0.196846    -0.312239         -0.670508   \n",
       "star_rating        0.102633     0.160762     0.180903          0.902573   \n",
       "theme_name         0.476178     0.012342     0.173318          0.151078   \n",
       "val_star_rating    0.116349     0.172431     0.192863          0.921824   \n",
       "country           -0.001526     0.001953     0.002506         -0.000958   \n",
       "\n",
       "                   review_difficulty  star_rating  theme_name  \\\n",
       "ages                       -0.239683     0.102633    0.476178   \n",
       "num_reviews                -0.196846     0.160762    0.012342   \n",
       "piece_count                -0.312239     0.180903    0.173318   \n",
       "play_star_rating           -0.670508     0.902573    0.151078   \n",
       "review_difficulty           1.000000    -0.637901   -0.153948   \n",
       "star_rating                -0.637901     1.000000    0.065264   \n",
       "theme_name                 -0.153948     0.065264    1.000000   \n",
       "val_star_rating            -0.650333     0.908720    0.097430   \n",
       "country                     0.006417    -0.003865   -0.003625   \n",
       "\n",
       "                   val_star_rating   country  \n",
       "ages                      0.116349 -0.001526  \n",
       "num_reviews               0.172431  0.001953  \n",
       "piece_count               0.192863  0.002506  \n",
       "play_star_rating          0.921824 -0.000958  \n",
       "review_difficulty        -0.650333  0.006417  \n",
       "star_rating               0.908720 -0.003865  \n",
       "theme_name                0.097430 -0.003625  \n",
       "val_star_rating           1.000000  0.002413  \n",
       "country                   0.002413  1.000000  "
      ]
     },
     "execution_count": 466,
     "metadata": {},
     "output_type": "execute_result"
    }
   ],
   "source": [
    "train.corr()"
   ]
  },
  {
   "cell_type": "code",
   "execution_count": 467,
   "metadata": {},
   "outputs": [],
   "source": [
    "X= train.drop(['play_star_rating','val_star_rating'], axis=1)"
   ]
  },
  {
   "cell_type": "code",
   "execution_count": 468,
   "metadata": {},
   "outputs": [],
   "source": [
    "#X = train.drop(['list_price','Id'], axis=1)"
   ]
  },
  {
   "cell_type": "code",
   "execution_count": 469,
   "metadata": {},
   "outputs": [
    {
     "data": {
      "text/html": [
       "<div>\n",
       "<style scoped>\n",
       "    .dataframe tbody tr th:only-of-type {\n",
       "        vertical-align: middle;\n",
       "    }\n",
       "\n",
       "    .dataframe tbody tr th {\n",
       "        vertical-align: top;\n",
       "    }\n",
       "\n",
       "    .dataframe thead th {\n",
       "        text-align: right;\n",
       "    }\n",
       "</style>\n",
       "<table border=\"1\" class=\"dataframe\">\n",
       "  <thead>\n",
       "    <tr style=\"text-align: right;\">\n",
       "      <th></th>\n",
       "      <th>ages</th>\n",
       "      <th>num_reviews</th>\n",
       "      <th>piece_count</th>\n",
       "      <th>review_difficulty</th>\n",
       "      <th>star_rating</th>\n",
       "      <th>theme_name</th>\n",
       "      <th>country</th>\n",
       "    </tr>\n",
       "  </thead>\n",
       "  <tbody>\n",
       "    <tr>\n",
       "      <th>0</th>\n",
       "      <td>0.266667</td>\n",
       "      <td>0.550409</td>\n",
       "      <td>0.327321</td>\n",
       "      <td>0.2</td>\n",
       "      <td>0.98</td>\n",
       "      <td>0.225</td>\n",
       "      <td>0.35</td>\n",
       "    </tr>\n",
       "    <tr>\n",
       "      <th>1</th>\n",
       "      <td>0.866667</td>\n",
       "      <td>0.024523</td>\n",
       "      <td>0.033289</td>\n",
       "      <td>0.0</td>\n",
       "      <td>0.92</td>\n",
       "      <td>0.975</td>\n",
       "      <td>1.00</td>\n",
       "    </tr>\n",
       "    <tr>\n",
       "      <th>2</th>\n",
       "      <td>0.866667</td>\n",
       "      <td>0.152589</td>\n",
       "      <td>0.087268</td>\n",
       "      <td>0.0</td>\n",
       "      <td>0.92</td>\n",
       "      <td>0.850</td>\n",
       "      <td>0.20</td>\n",
       "    </tr>\n",
       "    <tr>\n",
       "      <th>3</th>\n",
       "      <td>0.366667</td>\n",
       "      <td>0.002725</td>\n",
       "      <td>0.002387</td>\n",
       "      <td>1.0</td>\n",
       "      <td>0.80</td>\n",
       "      <td>0.325</td>\n",
       "      <td>0.50</td>\n",
       "    </tr>\n",
       "    <tr>\n",
       "      <th>4</th>\n",
       "      <td>0.233333</td>\n",
       "      <td>0.228883</td>\n",
       "      <td>0.532493</td>\n",
       "      <td>0.2</td>\n",
       "      <td>0.78</td>\n",
       "      <td>0.850</td>\n",
       "      <td>0.50</td>\n",
       "    </tr>\n",
       "  </tbody>\n",
       "</table>\n",
       "</div>"
      ],
      "text/plain": [
       "       ages  num_reviews  piece_count  review_difficulty  star_rating  \\\n",
       "0  0.266667     0.550409     0.327321                0.2         0.98   \n",
       "1  0.866667     0.024523     0.033289                0.0         0.92   \n",
       "2  0.866667     0.152589     0.087268                0.0         0.92   \n",
       "3  0.366667     0.002725     0.002387                1.0         0.80   \n",
       "4  0.233333     0.228883     0.532493                0.2         0.78   \n",
       "\n",
       "   theme_name  country  \n",
       "0       0.225     0.35  \n",
       "1       0.975     1.00  \n",
       "2       0.850     0.20  \n",
       "3       0.325     0.50  \n",
       "4       0.850     0.50  "
      ]
     },
     "execution_count": 469,
     "metadata": {},
     "output_type": "execute_result"
    }
   ],
   "source": [
    "X.head()"
   ]
  },
  {
   "cell_type": "code",
   "execution_count": 470,
   "metadata": {},
   "outputs": [],
   "source": [
    "X_train, X_val, y_train, y_val = train_test_split(X,y,test_size=0.3, random_state =6)"
   ]
  },
  {
   "cell_type": "code",
   "execution_count": 471,
   "metadata": {},
   "outputs": [
    {
     "data": {
      "text/plain": [
       "(6007, 7)"
      ]
     },
     "execution_count": 471,
     "metadata": {},
     "output_type": "execute_result"
    }
   ],
   "source": [
    "X_train.shape"
   ]
  },
  {
   "cell_type": "code",
   "execution_count": 472,
   "metadata": {},
   "outputs": [
    {
     "data": {
      "text/plain": [
       "(6007,)"
      ]
     },
     "execution_count": 472,
     "metadata": {},
     "output_type": "execute_result"
    }
   ],
   "source": [
    "y_train.shape"
   ]
  },
  {
   "cell_type": "markdown",
   "metadata": {},
   "source": [
    "### Data Visualization\n",
    "\n",
    "- All the features including target variable are continuous. \n",
    "- Check out the best plots for plotting between continuous features and try making some inferences from these plots. "
   ]
  },
  {
   "cell_type": "code",
   "execution_count": 474,
   "metadata": {},
   "outputs": [
    {
     "ename": "IndexError",
     "evalue": "index 7 is out of bounds for axis 0 with size 7",
     "output_type": "error",
     "traceback": [
      "\u001b[1;31m---------------------------------------------------------------------------\u001b[0m",
      "\u001b[1;31mIndexError\u001b[0m                                Traceback (most recent call last)",
      "\u001b[1;32m<ipython-input-474-3343c4dfe5cf>\u001b[0m in \u001b[0;36m<module>\u001b[1;34m\u001b[0m\n\u001b[0;32m      6\u001b[0m \u001b[1;32mfor\u001b[0m \u001b[0mi\u001b[0m \u001b[1;32min\u001b[0m \u001b[0mrange\u001b[0m\u001b[1;33m(\u001b[0m\u001b[1;36m0\u001b[0m\u001b[1;33m,\u001b[0m\u001b[1;36m3\u001b[0m\u001b[1;33m)\u001b[0m\u001b[1;33m:\u001b[0m\u001b[1;33m\u001b[0m\u001b[1;33m\u001b[0m\u001b[0m\n\u001b[0;32m      7\u001b[0m     \u001b[1;32mfor\u001b[0m \u001b[0mj\u001b[0m \u001b[1;32min\u001b[0m \u001b[0mrange\u001b[0m\u001b[1;33m(\u001b[0m\u001b[1;36m0\u001b[0m\u001b[1;33m,\u001b[0m\u001b[1;36m3\u001b[0m\u001b[1;33m)\u001b[0m\u001b[1;33m:\u001b[0m\u001b[1;33m\u001b[0m\u001b[1;33m\u001b[0m\u001b[0m\n\u001b[1;32m----> 8\u001b[1;33m         \u001b[0mcol\u001b[0m \u001b[1;33m=\u001b[0m \u001b[0mcols\u001b[0m\u001b[1;33m[\u001b[0m\u001b[0mi\u001b[0m\u001b[1;33m*\u001b[0m\u001b[1;36m3\u001b[0m \u001b[1;33m+\u001b[0m\u001b[0mj\u001b[0m\u001b[1;33m]\u001b[0m\u001b[1;33m\u001b[0m\u001b[1;33m\u001b[0m\u001b[0m\n\u001b[0m\u001b[0;32m      9\u001b[0m         \u001b[0maxes\u001b[0m\u001b[1;33m[\u001b[0m\u001b[0mi\u001b[0m\u001b[1;33m,\u001b[0m\u001b[0mj\u001b[0m\u001b[1;33m]\u001b[0m\u001b[1;33m.\u001b[0m\u001b[0mset_title\u001b[0m\u001b[1;33m(\u001b[0m\u001b[0mcol\u001b[0m\u001b[1;33m)\u001b[0m\u001b[1;33m\u001b[0m\u001b[1;33m\u001b[0m\u001b[0m\n\u001b[0;32m     10\u001b[0m         \u001b[0maxes\u001b[0m\u001b[1;33m[\u001b[0m\u001b[0mi\u001b[0m\u001b[1;33m,\u001b[0m\u001b[0mj\u001b[0m\u001b[1;33m]\u001b[0m\u001b[1;33m.\u001b[0m\u001b[0mscatter\u001b[0m\u001b[1;33m(\u001b[0m\u001b[0mX_train\u001b[0m\u001b[1;33m[\u001b[0m\u001b[0mcol\u001b[0m\u001b[1;33m]\u001b[0m\u001b[1;33m,\u001b[0m \u001b[0my_train\u001b[0m\u001b[1;33m)\u001b[0m\u001b[1;33m\u001b[0m\u001b[1;33m\u001b[0m\u001b[0m\n",
      "\u001b[1;32m~\\anaconda3\\lib\\site-packages\\pandas\\core\\indexes\\base.py\u001b[0m in \u001b[0;36m__getitem__\u001b[1;34m(self, key)\u001b[0m\n\u001b[0;32m   3928\u001b[0m         \u001b[1;32mif\u001b[0m \u001b[0mis_scalar\u001b[0m\u001b[1;33m(\u001b[0m\u001b[0mkey\u001b[0m\u001b[1;33m)\u001b[0m\u001b[1;33m:\u001b[0m\u001b[1;33m\u001b[0m\u001b[1;33m\u001b[0m\u001b[0m\n\u001b[0;32m   3929\u001b[0m             \u001b[0mkey\u001b[0m \u001b[1;33m=\u001b[0m \u001b[0mcom\u001b[0m\u001b[1;33m.\u001b[0m\u001b[0mcast_scalar_indexer\u001b[0m\u001b[1;33m(\u001b[0m\u001b[0mkey\u001b[0m\u001b[1;33m)\u001b[0m\u001b[1;33m\u001b[0m\u001b[1;33m\u001b[0m\u001b[0m\n\u001b[1;32m-> 3930\u001b[1;33m             \u001b[1;32mreturn\u001b[0m \u001b[0mgetitem\u001b[0m\u001b[1;33m(\u001b[0m\u001b[0mkey\u001b[0m\u001b[1;33m)\u001b[0m\u001b[1;33m\u001b[0m\u001b[1;33m\u001b[0m\u001b[0m\n\u001b[0m\u001b[0;32m   3931\u001b[0m \u001b[1;33m\u001b[0m\u001b[0m\n\u001b[0;32m   3932\u001b[0m         \u001b[1;32mif\u001b[0m \u001b[0misinstance\u001b[0m\u001b[1;33m(\u001b[0m\u001b[0mkey\u001b[0m\u001b[1;33m,\u001b[0m \u001b[0mslice\u001b[0m\u001b[1;33m)\u001b[0m\u001b[1;33m:\u001b[0m\u001b[1;33m\u001b[0m\u001b[1;33m\u001b[0m\u001b[0m\n",
      "\u001b[1;31mIndexError\u001b[0m: index 7 is out of bounds for axis 0 with size 7"
     ]
    },
    {
     "data": {
      "image/png": "[encoded data removed]",
      "text/plain": [
       "<Figure size 1440x1440 with 9 Axes>"
      ]
     },
     "metadata": {
      "needs_background": "light"
     },
     "output_type": "display_data"
    }
   ],
   "source": [
    "# Code starts here\n",
    "cols = X_train.columns\n",
    "\n",
    "fig, axes = plt.subplots(nrows=3, ncols=3, figsize=(20,20))\n",
    "\n",
    "for i in range(0,3):\n",
    "    for j in range(0,3):\n",
    "        col = cols[i*3 +j]\n",
    "        axes[i,j].set_title(col)\n",
    "        axes[i,j].scatter(X_train[col], y_train)\n",
    "        axes[i,j].set_xlabel(col)\n",
    "        axes[i,j].set_ylabel('list_price')\n",
    "\n",
    "\n",
    "plt.show()"
   ]
  },
  {
   "cell_type": "code",
   "execution_count": 475,
   "metadata": {},
   "outputs": [
    {
     "data": {
      "text/html": [
       "<div>\n",
       "<style scoped>\n",
       "    .dataframe tbody tr th:only-of-type {\n",
       "        vertical-align: middle;\n",
       "    }\n",
       "\n",
       "    .dataframe tbody tr th {\n",
       "        vertical-align: top;\n",
       "    }\n",
       "\n",
       "    .dataframe thead th {\n",
       "        text-align: right;\n",
       "    }\n",
       "</style>\n",
       "<table border=\"1\" class=\"dataframe\">\n",
       "  <thead>\n",
       "    <tr style=\"text-align: right;\">\n",
       "      <th></th>\n",
       "      <th>ages</th>\n",
       "      <th>num_reviews</th>\n",
       "      <th>piece_count</th>\n",
       "      <th>review_difficulty</th>\n",
       "      <th>star_rating</th>\n",
       "      <th>theme_name</th>\n",
       "      <th>country</th>\n",
       "    </tr>\n",
       "  </thead>\n",
       "  <tbody>\n",
       "    <tr>\n",
       "      <th>ages</th>\n",
       "      <td>1.000000</td>\n",
       "      <td>-0.162116</td>\n",
       "      <td>-0.087653</td>\n",
       "      <td>-0.248484</td>\n",
       "      <td>0.102732</td>\n",
       "      <td>0.477431</td>\n",
       "      <td>-0.016430</td>\n",
       "    </tr>\n",
       "    <tr>\n",
       "      <th>num_reviews</th>\n",
       "      <td>-0.162116</td>\n",
       "      <td>1.000000</td>\n",
       "      <td>0.550229</td>\n",
       "      <td>-0.197409</td>\n",
       "      <td>0.163444</td>\n",
       "      <td>0.017316</td>\n",
       "      <td>0.009128</td>\n",
       "    </tr>\n",
       "    <tr>\n",
       "      <th>piece_count</th>\n",
       "      <td>-0.087653</td>\n",
       "      <td>0.550229</td>\n",
       "      <td>1.000000</td>\n",
       "      <td>-0.312137</td>\n",
       "      <td>0.180946</td>\n",
       "      <td>0.173384</td>\n",
       "      <td>0.009986</td>\n",
       "    </tr>\n",
       "    <tr>\n",
       "      <th>review_difficulty</th>\n",
       "      <td>-0.248484</td>\n",
       "      <td>-0.197409</td>\n",
       "      <td>-0.312137</td>\n",
       "      <td>1.000000</td>\n",
       "      <td>-0.641694</td>\n",
       "      <td>-0.162326</td>\n",
       "      <td>0.000894</td>\n",
       "    </tr>\n",
       "    <tr>\n",
       "      <th>star_rating</th>\n",
       "      <td>0.102732</td>\n",
       "      <td>0.163444</td>\n",
       "      <td>0.180946</td>\n",
       "      <td>-0.641694</td>\n",
       "      <td>1.000000</td>\n",
       "      <td>0.062220</td>\n",
       "      <td>-0.007335</td>\n",
       "    </tr>\n",
       "    <tr>\n",
       "      <th>theme_name</th>\n",
       "      <td>0.477431</td>\n",
       "      <td>0.017316</td>\n",
       "      <td>0.173384</td>\n",
       "      <td>-0.162326</td>\n",
       "      <td>0.062220</td>\n",
       "      <td>1.000000</td>\n",
       "      <td>-0.018460</td>\n",
       "    </tr>\n",
       "    <tr>\n",
       "      <th>country</th>\n",
       "      <td>-0.016430</td>\n",
       "      <td>0.009128</td>\n",
       "      <td>0.009986</td>\n",
       "      <td>0.000894</td>\n",
       "      <td>-0.007335</td>\n",
       "      <td>-0.018460</td>\n",
       "      <td>1.000000</td>\n",
       "    </tr>\n",
       "  </tbody>\n",
       "</table>\n",
       "</div>"
      ],
      "text/plain": [
       "                       ages  num_reviews  piece_count  review_difficulty  \\\n",
       "ages               1.000000    -0.162116    -0.087653          -0.248484   \n",
       "num_reviews       -0.162116     1.000000     0.550229          -0.197409   \n",
       "piece_count       -0.087653     0.550229     1.000000          -0.312137   \n",
       "review_difficulty -0.248484    -0.197409    -0.312137           1.000000   \n",
       "star_rating        0.102732     0.163444     0.180946          -0.641694   \n",
       "theme_name         0.477431     0.017316     0.173384          -0.162326   \n",
       "country           -0.016430     0.009128     0.009986           0.000894   \n",
       "\n",
       "                   star_rating  theme_name   country  \n",
       "ages                  0.102732    0.477431 -0.016430  \n",
       "num_reviews           0.163444    0.017316  0.009128  \n",
       "piece_count           0.180946    0.173384  0.009986  \n",
       "review_difficulty    -0.641694   -0.162326  0.000894  \n",
       "star_rating           1.000000    0.062220 -0.007335  \n",
       "theme_name            0.062220    1.000000 -0.018460  \n",
       "country              -0.007335   -0.018460  1.000000  "
      ]
     },
     "execution_count": 475,
     "metadata": {},
     "output_type": "execute_result"
    }
   ],
   "source": [
    "X_train.corr()\n",
    "\n",
    "\n",
    "\n",
    "\n",
    "\n",
    "\n",
    "\n",
    "\n",
    "# Code ends here."
   ]
  },
  {
   "cell_type": "raw",
   "metadata": {},
   "source": [
    "# star rating and review_difficulty have a correlation value of 0.643 which is very high\n"
   ]
  },
  {
   "cell_type": "markdown",
   "metadata": {},
   "source": [
    "### Feature Selection\n",
    "- Try selecting suitable threshold and accordingly drop the columns."
   ]
  },
  {
   "cell_type": "code",
   "execution_count": 476,
   "metadata": {},
   "outputs": [],
   "source": [
    "# Code starts here\n",
    "\n",
    "\n",
    "\n",
    "\n",
    "\n",
    "\n",
    "\n",
    "\n",
    "\n",
    "\n",
    "\n",
    "# Code ends here."
   ]
  },
  {
   "cell_type": "code",
   "execution_count": 477,
   "metadata": {},
   "outputs": [
    {
     "data": {
      "text/html": [
       "<div>\n",
       "<style scoped>\n",
       "    .dataframe tbody tr th:only-of-type {\n",
       "        vertical-align: middle;\n",
       "    }\n",
       "\n",
       "    .dataframe tbody tr th {\n",
       "        vertical-align: top;\n",
       "    }\n",
       "\n",
       "    .dataframe thead th {\n",
       "        text-align: right;\n",
       "    }\n",
       "</style>\n",
       "<table border=\"1\" class=\"dataframe\">\n",
       "  <thead>\n",
       "    <tr style=\"text-align: right;\">\n",
       "      <th></th>\n",
       "      <th>ages</th>\n",
       "      <th>num_reviews</th>\n",
       "      <th>piece_count</th>\n",
       "      <th>review_difficulty</th>\n",
       "      <th>star_rating</th>\n",
       "      <th>theme_name</th>\n",
       "      <th>country</th>\n",
       "    </tr>\n",
       "  </thead>\n",
       "  <tbody>\n",
       "    <tr>\n",
       "      <th>5994</th>\n",
       "      <td>0.433333</td>\n",
       "      <td>0.000000</td>\n",
       "      <td>0.011141</td>\n",
       "      <td>1.0</td>\n",
       "      <td>0.00</td>\n",
       "      <td>0.525</td>\n",
       "      <td>0.00</td>\n",
       "    </tr>\n",
       "    <tr>\n",
       "      <th>2437</th>\n",
       "      <td>0.366667</td>\n",
       "      <td>0.002725</td>\n",
       "      <td>0.001857</td>\n",
       "      <td>0.4</td>\n",
       "      <td>0.80</td>\n",
       "      <td>0.325</td>\n",
       "      <td>0.50</td>\n",
       "    </tr>\n",
       "    <tr>\n",
       "      <th>2529</th>\n",
       "      <td>0.833333</td>\n",
       "      <td>0.010899</td>\n",
       "      <td>0.055836</td>\n",
       "      <td>0.0</td>\n",
       "      <td>0.96</td>\n",
       "      <td>0.200</td>\n",
       "      <td>1.00</td>\n",
       "    </tr>\n",
       "    <tr>\n",
       "      <th>5865</th>\n",
       "      <td>0.233333</td>\n",
       "      <td>0.547684</td>\n",
       "      <td>0.264589</td>\n",
       "      <td>0.2</td>\n",
       "      <td>0.96</td>\n",
       "      <td>0.850</td>\n",
       "      <td>0.95</td>\n",
       "    </tr>\n",
       "    <tr>\n",
       "      <th>1899</th>\n",
       "      <td>0.533333</td>\n",
       "      <td>0.049046</td>\n",
       "      <td>0.028647</td>\n",
       "      <td>0.4</td>\n",
       "      <td>0.52</td>\n",
       "      <td>0.425</td>\n",
       "      <td>0.15</td>\n",
       "    </tr>\n",
       "  </tbody>\n",
       "</table>\n",
       "</div>"
      ],
      "text/plain": [
       "          ages  num_reviews  piece_count  review_difficulty  star_rating  \\\n",
       "5994  0.433333     0.000000     0.011141                1.0         0.00   \n",
       "2437  0.366667     0.002725     0.001857                0.4         0.80   \n",
       "2529  0.833333     0.010899     0.055836                0.0         0.96   \n",
       "5865  0.233333     0.547684     0.264589                0.2         0.96   \n",
       "1899  0.533333     0.049046     0.028647                0.4         0.52   \n",
       "\n",
       "      theme_name  country  \n",
       "5994       0.525     0.00  \n",
       "2437       0.325     0.50  \n",
       "2529       0.200     1.00  \n",
       "5865       0.850     0.95  \n",
       "1899       0.425     0.15  "
      ]
     },
     "execution_count": 477,
     "metadata": {},
     "output_type": "execute_result"
    }
   ],
   "source": [
    "X_train.head()"
   ]
  },
  {
   "cell_type": "code",
   "execution_count": 478,
   "metadata": {},
   "outputs": [],
   "source": [
    "X_train['list_price']= y_train"
   ]
  },
  {
   "cell_type": "code",
   "execution_count": 479,
   "metadata": {},
   "outputs": [
    {
     "data": {
      "text/html": [
       "<div>\n",
       "<style scoped>\n",
       "    .dataframe tbody tr th:only-of-type {\n",
       "        vertical-align: middle;\n",
       "    }\n",
       "\n",
       "    .dataframe tbody tr th {\n",
       "        vertical-align: top;\n",
       "    }\n",
       "\n",
       "    .dataframe thead th {\n",
       "        text-align: right;\n",
       "    }\n",
       "</style>\n",
       "<table border=\"1\" class=\"dataframe\">\n",
       "  <thead>\n",
       "    <tr style=\"text-align: right;\">\n",
       "      <th></th>\n",
       "      <th>ages</th>\n",
       "      <th>num_reviews</th>\n",
       "      <th>piece_count</th>\n",
       "      <th>review_difficulty</th>\n",
       "      <th>star_rating</th>\n",
       "      <th>theme_name</th>\n",
       "      <th>country</th>\n",
       "      <th>list_price</th>\n",
       "    </tr>\n",
       "  </thead>\n",
       "  <tbody>\n",
       "    <tr>\n",
       "      <th>5994</th>\n",
       "      <td>0.433333</td>\n",
       "      <td>0.000000</td>\n",
       "      <td>0.011141</td>\n",
       "      <td>1.0</td>\n",
       "      <td>0.00</td>\n",
       "      <td>0.525</td>\n",
       "      <td>0.00</td>\n",
       "      <td>36.5878</td>\n",
       "    </tr>\n",
       "    <tr>\n",
       "      <th>2437</th>\n",
       "      <td>0.366667</td>\n",
       "      <td>0.002725</td>\n",
       "      <td>0.001857</td>\n",
       "      <td>0.4</td>\n",
       "      <td>0.80</td>\n",
       "      <td>0.325</td>\n",
       "      <td>0.50</td>\n",
       "      <td>18.2878</td>\n",
       "    </tr>\n",
       "    <tr>\n",
       "      <th>2529</th>\n",
       "      <td>0.833333</td>\n",
       "      <td>0.010899</td>\n",
       "      <td>0.055836</td>\n",
       "      <td>0.0</td>\n",
       "      <td>0.96</td>\n",
       "      <td>0.200</td>\n",
       "      <td>1.00</td>\n",
       "      <td>39.9900</td>\n",
       "    </tr>\n",
       "    <tr>\n",
       "      <th>5865</th>\n",
       "      <td>0.233333</td>\n",
       "      <td>0.547684</td>\n",
       "      <td>0.264589</td>\n",
       "      <td>0.2</td>\n",
       "      <td>0.96</td>\n",
       "      <td>0.850</td>\n",
       "      <td>0.95</td>\n",
       "      <td>243.9878</td>\n",
       "    </tr>\n",
       "    <tr>\n",
       "      <th>1899</th>\n",
       "      <td>0.533333</td>\n",
       "      <td>0.049046</td>\n",
       "      <td>0.028647</td>\n",
       "      <td>0.4</td>\n",
       "      <td>0.52</td>\n",
       "      <td>0.425</td>\n",
       "      <td>0.15</td>\n",
       "      <td>31.1922</td>\n",
       "    </tr>\n",
       "  </tbody>\n",
       "</table>\n",
       "</div>"
      ],
      "text/plain": [
       "          ages  num_reviews  piece_count  review_difficulty  star_rating  \\\n",
       "5994  0.433333     0.000000     0.011141                1.0         0.00   \n",
       "2437  0.366667     0.002725     0.001857                0.4         0.80   \n",
       "2529  0.833333     0.010899     0.055836                0.0         0.96   \n",
       "5865  0.233333     0.547684     0.264589                0.2         0.96   \n",
       "1899  0.533333     0.049046     0.028647                0.4         0.52   \n",
       "\n",
       "      theme_name  country  list_price  \n",
       "5994       0.525     0.00     36.5878  \n",
       "2437       0.325     0.50     18.2878  \n",
       "2529       0.200     1.00     39.9900  \n",
       "5865       0.850     0.95    243.9878  \n",
       "1899       0.425     0.15     31.1922  "
      ]
     },
     "execution_count": 479,
     "metadata": {},
     "output_type": "execute_result"
    }
   ],
   "source": [
    "X_train.head()"
   ]
  },
  {
   "cell_type": "code",
   "execution_count": 480,
   "metadata": {},
   "outputs": [],
   "source": [
    "# Run ols summary stats \n",
    "model_ols = ols(\"\"\"list_price ~ ages \n",
    "                        + num_reviews \n",
    "                        + piece_count\n",
    "                        + review_difficulty \n",
    "                        + star_rating \n",
    "                        + theme_name\n",
    "                        + country\"\"\", \n",
    "                        data=X_train).fit()"
   ]
  },
  {
   "cell_type": "code",
   "execution_count": 481,
   "metadata": {},
   "outputs": [
    {
     "data": {
      "text/html": [
       "<table class=\"simpletable\">\n",
       "<caption>OLS Regression Results</caption>\n",
       "<tr>\n",
       "  <th>Dep. Variable:</th>       <td>list_price</td>    <th>  R-squared:         </th> <td>   0.768</td> \n",
       "</tr>\n",
       "<tr>\n",
       "  <th>Model:</th>                   <td>OLS</td>       <th>  Adj. R-squared:    </th> <td>   0.768</td> \n",
       "</tr>\n",
       "<tr>\n",
       "  <th>Method:</th>             <td>Least Squares</td>  <th>  F-statistic:       </th> <td>   2841.</td> \n",
       "</tr>\n",
       "<tr>\n",
       "  <th>Date:</th>             <td>Fri, 13 Nov 2020</td> <th>  Prob (F-statistic):</th>  <td>  0.00</td>  \n",
       "</tr>\n",
       "<tr>\n",
       "  <th>Time:</th>                 <td>18:48:47</td>     <th>  Log-Likelihood:    </th> <td> -31015.</td> \n",
       "</tr>\n",
       "<tr>\n",
       "  <th>No. Observations:</th>      <td>  6007</td>      <th>  AIC:               </th> <td>6.205e+04</td>\n",
       "</tr>\n",
       "<tr>\n",
       "  <th>Df Residuals:</th>          <td>  5999</td>      <th>  BIC:               </th> <td>6.210e+04</td>\n",
       "</tr>\n",
       "<tr>\n",
       "  <th>Df Model:</th>              <td>     7</td>      <th>                     </th>     <td> </td>    \n",
       "</tr>\n",
       "<tr>\n",
       "  <th>Covariance Type:</th>      <td>nonrobust</td>    <th>                     </th>     <td> </td>    \n",
       "</tr>\n",
       "</table>\n",
       "<table class=\"simpletable\">\n",
       "<tr>\n",
       "          <td></td>             <th>coef</th>     <th>std err</th>      <th>t</th>      <th>P>|t|</th>  <th>[0.025</th>    <th>0.975]</th>  \n",
       "</tr>\n",
       "<tr>\n",
       "  <th>Intercept</th>         <td>   40.5399</td> <td>    3.087</td> <td>   13.132</td> <td> 0.000</td> <td>   34.488</td> <td>   46.592</td>\n",
       "</tr>\n",
       "<tr>\n",
       "  <th>ages</th>              <td>  -17.1496</td> <td>    2.428</td> <td>   -7.062</td> <td> 0.000</td> <td>  -21.910</td> <td>  -12.389</td>\n",
       "</tr>\n",
       "<tr>\n",
       "  <th>num_reviews</th>       <td>  -27.2433</td> <td>    7.040</td> <td>   -3.870</td> <td> 0.000</td> <td>  -41.045</td> <td>  -13.442</td>\n",
       "</tr>\n",
       "<tr>\n",
       "  <th>piece_count</th>       <td>  713.7238</td> <td>    6.566</td> <td>  108.693</td> <td> 0.000</td> <td>  700.851</td> <td>  726.596</td>\n",
       "</tr>\n",
       "<tr>\n",
       "  <th>review_difficulty</th> <td>  -19.1292</td> <td>    2.134</td> <td>   -8.962</td> <td> 0.000</td> <td>  -23.313</td> <td>  -14.945</td>\n",
       "</tr>\n",
       "<tr>\n",
       "  <th>star_rating</th>       <td>  -19.5853</td> <td>    2.201</td> <td>   -8.900</td> <td> 0.000</td> <td>  -23.899</td> <td>  -15.271</td>\n",
       "</tr>\n",
       "<tr>\n",
       "  <th>theme_name</th>        <td>   18.1992</td> <td>    2.155</td> <td>    8.444</td> <td> 0.000</td> <td>   13.974</td> <td>   22.424</td>\n",
       "</tr>\n",
       "<tr>\n",
       "  <th>country</th>           <td>    3.7756</td> <td>    1.768</td> <td>    2.136</td> <td> 0.033</td> <td>    0.310</td> <td>    7.241</td>\n",
       "</tr>\n",
       "</table>\n",
       "<table class=\"simpletable\">\n",
       "<tr>\n",
       "  <th>Omnibus:</th>       <td>6929.530</td> <th>  Durbin-Watson:     </th>  <td>   1.991</td>  \n",
       "</tr>\n",
       "<tr>\n",
       "  <th>Prob(Omnibus):</th>  <td> 0.000</td>  <th>  Jarque-Bera (JB):  </th> <td>1068989.777</td>\n",
       "</tr>\n",
       "<tr>\n",
       "  <th>Skew:</th>           <td> 5.873</td>  <th>  Prob(JB):          </th>  <td>    0.00</td>  \n",
       "</tr>\n",
       "<tr>\n",
       "  <th>Kurtosis:</th>       <td>67.288</td>  <th>  Cond. No.          </th>  <td>    24.9</td>  \n",
       "</tr>\n",
       "</table><br/><br/>Warnings:<br/>[1] Standard Errors assume that the covariance matrix of the errors is correctly specified."
      ],
      "text/plain": [
       "<class 'statsmodels.iolib.summary.Summary'>\n",
       "\"\"\"\n",
       "                            OLS Regression Results                            \n",
       "==============================================================================\n",
       "Dep. Variable:             list_price   R-squared:                       0.768\n",
       "Model:                            OLS   Adj. R-squared:                  0.768\n",
       "Method:                 Least Squares   F-statistic:                     2841.\n",
       "Date:                Fri, 13 Nov 2020   Prob (F-statistic):               0.00\n",
       "Time:                        18:48:47   Log-Likelihood:                -31015.\n",
       "No. Observations:                6007   AIC:                         6.205e+04\n",
       "Df Residuals:                    5999   BIC:                         6.210e+04\n",
       "Df Model:                           7                                         \n",
       "Covariance Type:            nonrobust                                         \n",
       "=====================================================================================\n",
       "                        coef    std err          t      P>|t|      [0.025      0.975]\n",
       "-------------------------------------------------------------------------------------\n",
       "Intercept            40.5399      3.087     13.132      0.000      34.488      46.592\n",
       "ages                -17.1496      2.428     -7.062      0.000     -21.910     -12.389\n",
       "num_reviews         -27.2433      7.040     -3.870      0.000     -41.045     -13.442\n",
       "piece_count         713.7238      6.566    108.693      0.000     700.851     726.596\n",
       "review_difficulty   -19.1292      2.134     -8.962      0.000     -23.313     -14.945\n",
       "star_rating         -19.5853      2.201     -8.900      0.000     -23.899     -15.271\n",
       "theme_name           18.1992      2.155      8.444      0.000      13.974      22.424\n",
       "country               3.7756      1.768      2.136      0.033       0.310       7.241\n",
       "==============================================================================\n",
       "Omnibus:                     6929.530   Durbin-Watson:                   1.991\n",
       "Prob(Omnibus):                  0.000   Jarque-Bera (JB):          1068989.777\n",
       "Skew:                           5.873   Prob(JB):                         0.00\n",
       "Kurtosis:                      67.288   Cond. No.                         24.9\n",
       "==============================================================================\n",
       "\n",
       "Warnings:\n",
       "[1] Standard Errors assume that the covariance matrix of the errors is correctly specified.\n",
       "\"\"\""
      ]
     },
     "execution_count": 481,
     "metadata": {},
     "output_type": "execute_result"
    }
   ],
   "source": [
    "model_summary = model_ols.summary()\n",
    "model_summary"
   ]
  },
  {
   "cell_type": "raw",
   "metadata": {},
   "source": [
    "# All the p-values are less then 0.05, so there is no scope of removing any variable\n",
    "# R-squared value is more then 0.7 from summary stats it is infact 0.756"
   ]
  },
  {
   "cell_type": "raw",
   "metadata": {},
   "source": [
    "#Lets check for linearity condition"
   ]
  },
  {
   "cell_type": "code",
   "execution_count": 482,
   "metadata": {},
   "outputs": [
    {
     "data": {
      "image/png": "[encoded data removed]",
      "text/plain": [
       "<Figure size 720x864 with 8 Axes>"
      ]
     },
     "metadata": {
      "needs_background": "light"
     },
     "output_type": "display_data"
    }
   ],
   "source": [
    "fig = plt.figure(figsize=(10,12))\n",
    "fig = sm.graphics.plot_partregress_grid(model_ols, fig=fig)"
   ]
  },
  {
   "cell_type": "raw",
   "metadata": {},
   "source": [
    "Analysis:\n",
    "If we observe carefully, all the partial residual plots between the independent variable and dependent variable are linear.\n",
    "Linearity condition is satisfied."
   ]
  },
  {
   "cell_type": "raw",
   "metadata": {},
   "source": [
    "Homoskedasticity\n",
    "To check homoskedasticity, we plot the residuals vs predicted values/fitted values.\n",
    "If we see any kind of funnel shape, we can say that there is heteroskedasticity."
   ]
  },
  {
   "cell_type": "code",
   "execution_count": 483,
   "metadata": {},
   "outputs": [],
   "source": [
    "error = y_val - y_pred\n",
    "error_info = pd.DataFrame({'y_true': y_val, 'y_pred': y_pred, 'error': error}, columns=['y_val', 'y_pred', 'error'])"
   ]
  },
  {
   "cell_type": "code",
   "execution_count": 484,
   "metadata": {},
   "outputs": [
    {
     "data": {
      "text/plain": [
       "Text(0, 0.5, 'Residual')"
      ]
     },
     "execution_count": 484,
     "metadata": {},
     "output_type": "execute_result"
    },
    {
     "data": {
      "image/png": "[encoded data removed]",
      "text/plain": [
       "<Figure size 576x360 with 1 Axes>"
      ]
     },
     "metadata": {
      "needs_background": "light"
     },
     "output_type": "display_data"
    }
   ],
   "source": [
    "plt.figure(figsize=(8,5))\n",
    "g = sns.regplot(x=\"y_pred\", y=\"error\", data=error_info, color='blue')\n",
    "g.set_title('Check Homoskedasticity', fontsize=15)\n",
    "g.set_xlabel(\"predicted values\", fontsize=13)\n",
    "g.set_ylabel(\"Residual\", fontsize=13)"
   ]
  },
  {
   "cell_type": "raw",
   "metadata": {},
   "source": [
    "# There is no funnel shape which confirms that there is no heteroescadicity"
   ]
  },
  {
   "cell_type": "code",
   "execution_count": 485,
   "metadata": {},
   "outputs": [
    {
     "data": {
      "text/plain": [
       "Text(0, 0.5, 'Residual')"
      ]
     },
     "execution_count": 485,
     "metadata": {},
     "output_type": "execute_result"
    },
    {
     "data": {
      "image/png": "[encoded data removed]",
      "text/plain": [
       "<Figure size 432x288 with 1 Axes>"
      ]
     },
     "metadata": {
      "needs_background": "light"
     },
     "output_type": "display_data"
    }
   ],
   "source": [
    "ax = error_info.error.plot()\n",
    "ax.set_title('Uncorrelated errors', fontsize=15)\n",
    "ax.set_xlabel(\"Data\", fontsize=13)\n",
    "ax.set_ylabel(\"Residual\", fontsize=13)"
   ]
  },
  {
   "cell_type": "raw",
   "metadata": {},
   "source": [
    "If we observe, there is no correlation/pattern between errors. It is purely random.\n",
    "We can also check this condition using the Durbin-Watson test:\n",
    "If DW = 2, then there is no correlation, the value here is 1.921 so we can say that there is no correlation between errors\n",
    "If DW < 2, then the errors are positively correlated.\n",
    "If DW > 2, then the errors are negatively correlated."
   ]
  },
  {
   "cell_type": "raw",
   "metadata": {},
   "source": [
    "Normality of error terms\n",
    "This can be checked by plotting probability probability plot(p-p plot) or Quantile-Quantile plot(Q-Q plot)"
   ]
  },
  {
   "cell_type": "code",
   "execution_count": 488,
   "metadata": {},
   "outputs": [
    {
     "data": {
      "text/plain": [
       "Text(0, 0.5, 'Ordered Values')"
      ]
     },
     "execution_count": 488,
     "metadata": {},
     "output_type": "execute_result"
    },
    {
     "data": {
      "image/png": "[encoded data removed]",
      "text/plain": [
       "<Figure size 432x288 with 1 Axes>"
      ]
     },
     "metadata": {
      "needs_background": "light"
     },
     "output_type": "display_data"
    }
   ],
   "source": [
    "fig, ax = plt.subplots(figsize=(6,4))\n",
    "_ = sp.stats.probplot(error_info.error, plot=ax, fit=True)\n",
    "ax.set_title('Probability plot', fontsize=15)\n",
    "ax.set_xlabel(\"Theoritical Qunatiles\", fontsize=13)\n",
    "ax.set_ylabel(\"Ordered Values\", fontsize=13)"
   ]
  },
  {
   "cell_type": "code",
   "execution_count": 489,
   "metadata": {},
   "outputs": [
    {
     "data": {
      "image/png": "[encoded data removed]",
      "text/plain": [
       "<Figure size 432x288 with 1 Axes>"
      ]
     },
     "metadata": {
      "needs_background": "light"
     },
     "output_type": "display_data"
    }
   ],
   "source": [
    "ax = sm.qqplot(error_info.error, line='45')\n",
    "plt.show()"
   ]
  },
  {
   "cell_type": "markdown",
   "metadata": {},
   "source": [
    "### Model building"
   ]
  },
  {
   "cell_type": "code",
   "execution_count": 490,
   "metadata": {},
   "outputs": [
    {
     "name": "stdout",
     "output_type": "stream",
     "text": [
      "2385.6155401803835\n",
      "0.6093363841093516\n"
     ]
    }
   ],
   "source": [
    "# Code starts here\n",
    "\n",
    "model = LinearRegression()\n",
    "model.fit(X_train.drop(['list_price'], axis=1), y_train)\n",
    "y_pred = model.predict(X_val)\n",
    "print(mean_squared_error(y_pred,y_val ))\n",
    "print(r2_score(y_pred, y_val))\n",
    "\n",
    "\n",
    "\n",
    "\n",
    "\n",
    "\n",
    "\n",
    "\n",
    "\n",
    "# Code ends here."
   ]
  },
  {
   "cell_type": "code",
   "execution_count": null,
   "metadata": {},
   "outputs": [],
   "source": [
    "# Different algorithm selection may solve the R-squared problem"
   ]
  },
  {
   "cell_type": "markdown",
   "metadata": {},
   "source": [
    "### Residual check!\n",
    "\n",
    "- Check the distribution of the residual."
   ]
  },
  {
   "cell_type": "code",
   "execution_count": 491,
   "metadata": {},
   "outputs": [
    {
     "data": {
      "image/png": "[encoded data removed]",
      "text/plain": [
       "<Figure size 1080x576 with 1 Axes>"
      ]
     },
     "metadata": {
      "needs_background": "light"
     },
     "output_type": "display_data"
    }
   ],
   "source": [
    "# Code starts here\n",
    "residual = (y_val - y_pred)\n",
    "plt.figure(figsize=(15,8))\n",
    "plt.hist(residual,bins=30)\n",
    "plt.xlabel(\"Residual\")\n",
    "plt.ylabel('Frequency')\n",
    "plt.title(\"Error Residual Plot\")\n",
    "plt.show()\n",
    "\n",
    "\n",
    "\n",
    "\n",
    "\n",
    "\n",
    "\n",
    "\n",
    "\n",
    "\n",
    "\n",
    "# Code ends here."
   ]
  },
  {
   "cell_type": "markdown",
   "metadata": {},
   "source": [
    "### Prediction on the test data and creating the sample submission file.\n",
    "\n",
    "- Load the test data and store the `Id` column in a separate variable.\n",
    "- Perform the same operations on the test data that you have performed on the train data.\n",
    "- Create the submission file as a `csv` file consisting of the `Id` column from the test data and your prediction as the second column."
   ]
  },
  {
   "cell_type": "code",
   "execution_count": 492,
   "metadata": {},
   "outputs": [],
   "source": [
    "# Code starts here\n",
    "Id = test['Id']\n",
    "test =test.drop(['play_star_rating','val_star_rating','Id'], axis=1)\n",
    "\n",
    "\n",
    "\n",
    "\n",
    "\n",
    "\n",
    "\n",
    "\n",
    "\n",
    "\n",
    "\n",
    "\n",
    "\n",
    "# Code ends here."
   ]
  },
  {
   "cell_type": "code",
   "execution_count": 493,
   "metadata": {},
   "outputs": [
    {
     "data": {
      "text/html": [
       "<div>\n",
       "<style scoped>\n",
       "    .dataframe tbody tr th:only-of-type {\n",
       "        vertical-align: middle;\n",
       "    }\n",
       "\n",
       "    .dataframe tbody tr th {\n",
       "        vertical-align: top;\n",
       "    }\n",
       "\n",
       "    .dataframe thead th {\n",
       "        text-align: right;\n",
       "    }\n",
       "</style>\n",
       "<table border=\"1\" class=\"dataframe\">\n",
       "  <thead>\n",
       "    <tr style=\"text-align: right;\">\n",
       "      <th></th>\n",
       "      <th>ages</th>\n",
       "      <th>num_reviews</th>\n",
       "      <th>piece_count</th>\n",
       "      <th>review_difficulty</th>\n",
       "      <th>star_rating</th>\n",
       "      <th>theme_name</th>\n",
       "      <th>country</th>\n",
       "    </tr>\n",
       "  </thead>\n",
       "  <tbody>\n",
       "    <tr>\n",
       "      <th>0</th>\n",
       "      <td>26</td>\n",
       "      <td>8</td>\n",
       "      <td>941</td>\n",
       "      <td>0</td>\n",
       "      <td>4.6</td>\n",
       "      <td>33</td>\n",
       "      <td>16</td>\n",
       "    </tr>\n",
       "    <tr>\n",
       "      <th>1</th>\n",
       "      <td>11</td>\n",
       "      <td>0</td>\n",
       "      <td>19</td>\n",
       "      <td>5</td>\n",
       "      <td>0.0</td>\n",
       "      <td>13</td>\n",
       "      <td>7</td>\n",
       "    </tr>\n",
       "    <tr>\n",
       "      <th>2</th>\n",
       "      <td>29</td>\n",
       "      <td>34</td>\n",
       "      <td>1376</td>\n",
       "      <td>1</td>\n",
       "      <td>4.3</td>\n",
       "      <td>34</td>\n",
       "      <td>12</td>\n",
       "    </tr>\n",
       "    <tr>\n",
       "      <th>3</th>\n",
       "      <td>26</td>\n",
       "      <td>0</td>\n",
       "      <td>369</td>\n",
       "      <td>5</td>\n",
       "      <td>0.0</td>\n",
       "      <td>28</td>\n",
       "      <td>9</td>\n",
       "    </tr>\n",
       "    <tr>\n",
       "      <th>4</th>\n",
       "      <td>11</td>\n",
       "      <td>1</td>\n",
       "      <td>19</td>\n",
       "      <td>5</td>\n",
       "      <td>4.0</td>\n",
       "      <td>13</td>\n",
       "      <td>0</td>\n",
       "    </tr>\n",
       "  </tbody>\n",
       "</table>\n",
       "</div>"
      ],
      "text/plain": [
       "   ages  num_reviews  piece_count  review_difficulty  star_rating  theme_name  \\\n",
       "0    26            8          941                  0          4.6          33   \n",
       "1    11            0           19                  5          0.0          13   \n",
       "2    29           34         1376                  1          4.3          34   \n",
       "3    26            0          369                  5          0.0          28   \n",
       "4    11            1           19                  5          4.0          13   \n",
       "\n",
       "   country  \n",
       "0       16  \n",
       "1        7  \n",
       "2       12  \n",
       "3        9  \n",
       "4        0  "
      ]
     },
     "execution_count": 493,
     "metadata": {},
     "output_type": "execute_result"
    }
   ],
   "source": [
    "test.head()"
   ]
  },
  {
   "cell_type": "code",
   "execution_count": 513,
   "metadata": {},
   "outputs": [
    {
     "data": {
      "text/plain": [
       "0    9907\n",
       "1    5243\n",
       "2    8276\n",
       "3    6501\n",
       "4    1619\n",
       "Name: Id, dtype: int64"
      ]
     },
     "execution_count": 513,
     "metadata": {},
     "output_type": "execute_result"
    }
   ],
   "source": [
    "Id.head()"
   ]
  },
  {
   "cell_type": "code",
   "execution_count": 497,
   "metadata": {},
   "outputs": [],
   "source": [
    "scaler = MinMaxScaler()\n",
    "scaled_values = scaler.fit_transform(test)\n",
    "test.loc[:,:] = scaled_values"
   ]
  },
  {
   "cell_type": "code",
   "execution_count": 498,
   "metadata": {},
   "outputs": [
    {
     "data": {
      "text/html": [
       "<div>\n",
       "<style scoped>\n",
       "    .dataframe tbody tr th:only-of-type {\n",
       "        vertical-align: middle;\n",
       "    }\n",
       "\n",
       "    .dataframe tbody tr th {\n",
       "        vertical-align: top;\n",
       "    }\n",
       "\n",
       "    .dataframe thead th {\n",
       "        text-align: right;\n",
       "    }\n",
       "</style>\n",
       "<table border=\"1\" class=\"dataframe\">\n",
       "  <thead>\n",
       "    <tr style=\"text-align: right;\">\n",
       "      <th></th>\n",
       "      <th>ages</th>\n",
       "      <th>num_reviews</th>\n",
       "      <th>piece_count</th>\n",
       "      <th>review_difficulty</th>\n",
       "      <th>star_rating</th>\n",
       "      <th>theme_name</th>\n",
       "      <th>country</th>\n",
       "    </tr>\n",
       "  </thead>\n",
       "  <tbody>\n",
       "    <tr>\n",
       "      <th>0</th>\n",
       "      <td>0.866667</td>\n",
       "      <td>0.021798</td>\n",
       "      <td>0.124668</td>\n",
       "      <td>0.0</td>\n",
       "      <td>0.92</td>\n",
       "      <td>0.825</td>\n",
       "      <td>0.80</td>\n",
       "    </tr>\n",
       "    <tr>\n",
       "      <th>1</th>\n",
       "      <td>0.366667</td>\n",
       "      <td>0.000000</td>\n",
       "      <td>0.002387</td>\n",
       "      <td>1.0</td>\n",
       "      <td>0.00</td>\n",
       "      <td>0.325</td>\n",
       "      <td>0.35</td>\n",
       "    </tr>\n",
       "    <tr>\n",
       "      <th>2</th>\n",
       "      <td>0.966667</td>\n",
       "      <td>0.092643</td>\n",
       "      <td>0.182361</td>\n",
       "      <td>0.2</td>\n",
       "      <td>0.86</td>\n",
       "      <td>0.850</td>\n",
       "      <td>0.60</td>\n",
       "    </tr>\n",
       "    <tr>\n",
       "      <th>3</th>\n",
       "      <td>0.866667</td>\n",
       "      <td>0.000000</td>\n",
       "      <td>0.048806</td>\n",
       "      <td>1.0</td>\n",
       "      <td>0.00</td>\n",
       "      <td>0.700</td>\n",
       "      <td>0.45</td>\n",
       "    </tr>\n",
       "    <tr>\n",
       "      <th>4</th>\n",
       "      <td>0.366667</td>\n",
       "      <td>0.002725</td>\n",
       "      <td>0.002387</td>\n",
       "      <td>1.0</td>\n",
       "      <td>0.80</td>\n",
       "      <td>0.325</td>\n",
       "      <td>0.00</td>\n",
       "    </tr>\n",
       "  </tbody>\n",
       "</table>\n",
       "</div>"
      ],
      "text/plain": [
       "       ages  num_reviews  piece_count  review_difficulty  star_rating  \\\n",
       "0  0.866667     0.021798     0.124668                0.0         0.92   \n",
       "1  0.366667     0.000000     0.002387                1.0         0.00   \n",
       "2  0.966667     0.092643     0.182361                0.2         0.86   \n",
       "3  0.866667     0.000000     0.048806                1.0         0.00   \n",
       "4  0.366667     0.002725     0.002387                1.0         0.80   \n",
       "\n",
       "   theme_name  country  \n",
       "0       0.825     0.80  \n",
       "1       0.325     0.35  \n",
       "2       0.850     0.60  \n",
       "3       0.700     0.45  \n",
       "4       0.325     0.00  "
      ]
     },
     "execution_count": 498,
     "metadata": {},
     "output_type": "execute_result"
    }
   ],
   "source": [
    "test.head()"
   ]
  },
  {
   "cell_type": "code",
   "execution_count": 501,
   "metadata": {},
   "outputs": [],
   "source": [
    "y_pred_test = model.predict(test)\n"
   ]
  },
  {
   "cell_type": "code",
   "execution_count": 525,
   "metadata": {},
   "outputs": [],
   "source": [
    "submission = pd.DataFrame({'Id':Id,\n",
    "                           'list_price': y_pred_test})"
   ]
  },
  {
   "cell_type": "code",
   "execution_count": 526,
   "metadata": {},
   "outputs": [
    {
     "data": {
      "text/html": [
       "<div>\n",
       "<style scoped>\n",
       "    .dataframe tbody tr th:only-of-type {\n",
       "        vertical-align: middle;\n",
       "    }\n",
       "\n",
       "    .dataframe tbody tr th {\n",
       "        vertical-align: top;\n",
       "    }\n",
       "\n",
       "    .dataframe thead th {\n",
       "        text-align: right;\n",
       "    }\n",
       "</style>\n",
       "<table border=\"1\" class=\"dataframe\">\n",
       "  <thead>\n",
       "    <tr style=\"text-align: right;\">\n",
       "      <th></th>\n",
       "      <th>Id</th>\n",
       "      <th>list_price</th>\n",
       "    </tr>\n",
       "  </thead>\n",
       "  <tbody>\n",
       "    <tr>\n",
       "      <th>0</th>\n",
       "      <td>9907</td>\n",
       "      <td>114.078263</td>\n",
       "    </tr>\n",
       "    <tr>\n",
       "      <th>1</th>\n",
       "      <td>5243</td>\n",
       "      <td>24.062639</td>\n",
       "    </tr>\n",
       "    <tr>\n",
       "      <th>2</th>\n",
       "      <td>8276</td>\n",
       "      <td>148.658779</td>\n",
       "    </tr>\n",
       "    <tr>\n",
       "      <th>3</th>\n",
       "      <td>6501</td>\n",
       "      <td>55.820522</td>\n",
       "    </tr>\n",
       "    <tr>\n",
       "      <th>4</th>\n",
       "      <td>1619</td>\n",
       "      <td>6.998705</td>\n",
       "    </tr>\n",
       "    <tr>\n",
       "      <th>...</th>\n",
       "      <td>...</td>\n",
       "      <td>...</td>\n",
       "    </tr>\n",
       "    <tr>\n",
       "      <th>3674</th>\n",
       "      <td>2144</td>\n",
       "      <td>11.256610</td>\n",
       "    </tr>\n",
       "    <tr>\n",
       "      <th>3675</th>\n",
       "      <td>7242</td>\n",
       "      <td>72.334906</td>\n",
       "    </tr>\n",
       "    <tr>\n",
       "      <th>3676</th>\n",
       "      <td>11631</td>\n",
       "      <td>26.211068</td>\n",
       "    </tr>\n",
       "    <tr>\n",
       "      <th>3677</th>\n",
       "      <td>4639</td>\n",
       "      <td>16.395276</td>\n",
       "    </tr>\n",
       "    <tr>\n",
       "      <th>3678</th>\n",
       "      <td>7269</td>\n",
       "      <td>18.426601</td>\n",
       "    </tr>\n",
       "  </tbody>\n",
       "</table>\n",
       "<p>3679 rows × 2 columns</p>\n",
       "</div>"
      ],
      "text/plain": [
       "         Id  list_price\n",
       "0      9907  114.078263\n",
       "1      5243   24.062639\n",
       "2      8276  148.658779\n",
       "3      6501   55.820522\n",
       "4      1619    6.998705\n",
       "...     ...         ...\n",
       "3674   2144   11.256610\n",
       "3675   7242   72.334906\n",
       "3676  11631   26.211068\n",
       "3677   4639   16.395276\n",
       "3678   7269   18.426601\n",
       "\n",
       "[3679 rows x 2 columns]"
      ]
     },
     "execution_count": 526,
     "metadata": {},
     "output_type": "execute_result"
    }
   ],
   "source": [
    "submission"
   ]
  },
  {
   "cell_type": "code",
   "execution_count": null,
   "metadata": {},
   "outputs": [],
   "source": [
    "submission = submission.set_index('Id')"
   ]
  },
  {
   "cell_type": "code",
   "execution_count": 532,
   "metadata": {},
   "outputs": [
    {
     "data": {
      "text/html": [
       "<div>\n",
       "<style scoped>\n",
       "    .dataframe tbody tr th:only-of-type {\n",
       "        vertical-align: middle;\n",
       "    }\n",
       "\n",
       "    .dataframe tbody tr th {\n",
       "        vertical-align: top;\n",
       "    }\n",
       "\n",
       "    .dataframe thead th {\n",
       "        text-align: right;\n",
       "    }\n",
       "</style>\n",
       "<table border=\"1\" class=\"dataframe\">\n",
       "  <thead>\n",
       "    <tr style=\"text-align: right;\">\n",
       "      <th></th>\n",
       "      <th>list_price</th>\n",
       "    </tr>\n",
       "    <tr>\n",
       "      <th>Id</th>\n",
       "      <th></th>\n",
       "    </tr>\n",
       "  </thead>\n",
       "  <tbody>\n",
       "    <tr>\n",
       "      <th>9907</th>\n",
       "      <td>114.078263</td>\n",
       "    </tr>\n",
       "    <tr>\n",
       "      <th>5243</th>\n",
       "      <td>24.062639</td>\n",
       "    </tr>\n",
       "    <tr>\n",
       "      <th>8276</th>\n",
       "      <td>148.658779</td>\n",
       "    </tr>\n",
       "    <tr>\n",
       "      <th>6501</th>\n",
       "      <td>55.820522</td>\n",
       "    </tr>\n",
       "    <tr>\n",
       "      <th>1619</th>\n",
       "      <td>6.998705</td>\n",
       "    </tr>\n",
       "    <tr>\n",
       "      <th>...</th>\n",
       "      <td>...</td>\n",
       "    </tr>\n",
       "    <tr>\n",
       "      <th>2144</th>\n",
       "      <td>11.256610</td>\n",
       "    </tr>\n",
       "    <tr>\n",
       "      <th>7242</th>\n",
       "      <td>72.334906</td>\n",
       "    </tr>\n",
       "    <tr>\n",
       "      <th>11631</th>\n",
       "      <td>26.211068</td>\n",
       "    </tr>\n",
       "    <tr>\n",
       "      <th>4639</th>\n",
       "      <td>16.395276</td>\n",
       "    </tr>\n",
       "    <tr>\n",
       "      <th>7269</th>\n",
       "      <td>18.426601</td>\n",
       "    </tr>\n",
       "  </tbody>\n",
       "</table>\n",
       "<p>3679 rows × 1 columns</p>\n",
       "</div>"
      ],
      "text/plain": [
       "       list_price\n",
       "Id               \n",
       "9907   114.078263\n",
       "5243    24.062639\n",
       "8276   148.658779\n",
       "6501    55.820522\n",
       "1619     6.998705\n",
       "...           ...\n",
       "2144    11.256610\n",
       "7242    72.334906\n",
       "11631   26.211068\n",
       "4639    16.395276\n",
       "7269    18.426601\n",
       "\n",
       "[3679 rows x 1 columns]"
      ]
     },
     "execution_count": 532,
     "metadata": {},
     "output_type": "execute_result"
    }
   ],
   "source": [
    "submission"
   ]
  },
  {
   "cell_type": "code",
   "execution_count": 533,
   "metadata": {},
   "outputs": [],
   "source": [
    "submission.to_csv('submission.csv')"
   ]
  },
  {
   "cell_type": "code",
   "execution_count": null,
   "metadata": {},
   "outputs": [],
   "source": []
  }
 ],
 "metadata": {
  "kernelspec": {
   "display_name": "Python 3",
   "language": "python",
   "name": "python3"
  },
  "language_info": {
   "codemirror_mode": {
    "name": "ipython",
    "version": 3
   },
   "file_extension": ".py",
   "mimetype": "text/x-python",
   "name": "python",
   "nbconvert_exporter": "python",
   "pygments_lexer": "ipython3",
   "version": "3.7.6"
  }
 },
 "nbformat": 4,
 "nbformat_minor": 2
}
